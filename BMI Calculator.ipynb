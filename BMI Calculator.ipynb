{
 "cells": [
  {
   "attachments": {},
   "cell_type": "markdown",
   "metadata": {},
   "source": [
    "# BMI Calculator"
   ]
  },
  {
   "attachments": {},
   "cell_type": "markdown",
   "metadata": {},
   "source": [
    "**Input weight and height**"
   ]
  },
  {
   "cell_type": "code",
   "execution_count": 46,
   "metadata": {},
   "outputs": [],
   "source": [
    "name = input(\"Enter your name here: \")\n",
    "\n",
    "weight = int(input(\"Enter your weight in kilograms: \"))\n",
    "\n",
    "height = int(input(\"Enter your height in centimeters: \"))\n",
    "\n",
    "BMI = round(weight/(height*height)*10000,1)"
   ]
  },
  {
   "attachments": {},
   "cell_type": "markdown",
   "metadata": {},
   "source": [
    "**Print BMI index and status**"
   ]
  },
  {
   "cell_type": "code",
   "execution_count": 47,
   "metadata": {},
   "outputs": [
    {
     "name": "stdout",
     "output_type": "stream",
     "text": [
      "Your BMI:  14.7\n",
      "Dat, you are Severe Thin!\n"
     ]
    }
   ],
   "source": [
    "print(\"Your BMI: \", BMI)\n",
    "\n",
    "if BMI < 16:\n",
    "    print(name+\", you are Severe Thin!\")\n",
    "elif BMI < 17:\n",
    "    print(name+\", you are Moderate Thin!\")\n",
    "elif BMI < 18.5:\n",
    "    print(name+\", you are Mild Thin!\")\n",
    "elif BMI < 25:\n",
    "    print(name+\", you are Normal!\")\n",
    "elif BMI < 30:\n",
    "    print(name+\", you are Overweight!\")\n",
    "elif BMI < 35:\n",
    "    print(name+\", you are Obese Class I!\")\n",
    "elif BMI < 40:\n",
    "    print(name+\", you are Obese Class II!\")\n",
    "elif BMI >= 40:\n",
    "    print(name+\", you are Obese Class III!\")\n",
    "else:\n",
    "    print(\"Error!\")"
   ]
  }
 ],
 "metadata": {
  "kernelspec": {
   "display_name": "Python 3",
   "language": "python",
   "name": "python3"
  },
  "language_info": {
   "codemirror_mode": {
    "name": "ipython",
    "version": 3
   },
   "file_extension": ".py",
   "mimetype": "text/x-python",
   "name": "python",
   "nbconvert_exporter": "python",
   "pygments_lexer": "ipython3",
   "version": "3.10.10"
  },
  "orig_nbformat": 4
 },
 "nbformat": 4,
 "nbformat_minor": 2
}
